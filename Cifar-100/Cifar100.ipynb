{
 "cells": [
  {
   "cell_type": "markdown",
   "metadata": {},
   "source": [
    "# Ambar Roy\n",
    "CNN model used on Cifar-100"
   ]
  },
  {
   "cell_type": "markdown",
   "metadata": {},
   "source": [
    "# Import statements"
   ]
  },
  {
   "cell_type": "code",
   "execution_count": 226,
   "metadata": {},
   "outputs": [],
   "source": [
    "import keras\n",
    "import cv2\n",
    "import numpy as np\n",
    "import pandas as pd\n",
    "import matplotlib.pyplot as plt\n",
    "import tensorflow as tf\n",
    "from keras.utils import to_categorical\n",
    "\n",
    "from sklearn.preprocessing import OneHotEncoder\n",
    "from keras.layers import Input,Activation,Add,AveragePooling2D,Dense,Conv2D,Flatten,MaxPooling2D,Dropout,BatchNormalization,GlobalAveragePooling2D,UpSampling2D,Lambda,ZeroPadding2D\n",
    "\n",
    "from keras.models import Model\n",
    "from keras.datasets import cifar100\n",
    "from keras.preprocessing import image\n",
    "\n",
    "from keras.applications import ResNet50"
   ]
  },
  {
   "cell_type": "markdown",
   "metadata": {},
   "source": [
    "# Loading training data and test data"
   ]
  },
  {
   "cell_type": "code",
   "execution_count": 201,
   "metadata": {},
   "outputs": [
    {
     "name": "stdout",
     "output_type": "stream",
     "text": [
      "(50000, 32, 32, 3)\n",
      "(50000, 1)\n"
     ]
    }
   ],
   "source": [
    "(x_train, y_train), (x_test, y_test)=cifar100.load_data(label_mode='coarse')\n",
    "print(x_train.shape)\n",
    "print(y_train.shape)"
   ]
  },
  {
   "cell_type": "code",
   "execution_count": 202,
   "metadata": {},
   "outputs": [
    {
     "name": "stdout",
     "output_type": "stream",
     "text": [
      "(10000, 32, 32, 3)\n",
      "(50000, 100)\n"
     ]
    },
    {
     "data": {
      "image/png": "[encoded data removed]",
      "text/plain": [
       "<Figure size 640x480 with 1 Axes>"
      ]
     },
     "metadata": {},
     "output_type": "display_data"
    },
    {
     "name": "stdout",
     "output_type": "stream",
     "text": [
      "[0. 0. 0. 0. 0. 0. 0. 0. 0. 0. 0. 1. 0. 0. 0. 0. 0. 0. 0. 0. 0. 0. 0. 0.\n",
      " 0. 0. 0. 0. 0. 0. 0. 0. 0. 0. 0. 0. 0. 0. 0. 0. 0. 0. 0. 0. 0. 0. 0. 0.\n",
      " 0. 0. 0. 0. 0. 0. 0. 0. 0. 0. 0. 0. 0. 0. 0. 0. 0. 0. 0. 0. 0. 0. 0. 0.\n",
      " 0. 0. 0. 0. 0. 0. 0. 0. 0. 0. 0. 0. 0. 0. 0. 0. 0. 0. 0. 0. 0. 0. 0. 0.\n",
      " 0. 0. 0. 0.]\n"
     ]
    }
   ],
   "source": [
    "x_train = x_train*1.0/255\n",
    "x_test = x_test*1.0/255\n",
    "\n",
    "\n",
    "# x_train=np.array([cv2.resize(img, (140, 140)) for img in x_train])\n",
    "# x_test= np.array([cv2.resize(img, (140, 140)) for img in x_test])\n",
    "\n",
    "# ohc=OneHotEncoder()\n",
    "# y_train = ohc.fit_transform(y_train.reshape(-1, 1)).toarray().astype(int)\n",
    "# y_test = ohc.transform(y_test.reshape(-1, 1)).toarray().astype(int)\n",
    "y_train=to_categorical(y_train, num_classes=100)\n",
    "y_test=to_categorical(y_train, num_classes=100)\n",
    "\n",
    "print(x_test.shape)\n",
    "print(y_train.shape)\n",
    "plt.imshow(x_train[0])\n",
    "plt.show()\n",
    "print(y_train[0])"
   ]
  },
  {
   "cell_type": "markdown",
   "metadata": {},
   "source": [
    "# Data Augmentation"
   ]
  },
  {
   "cell_type": "code",
   "execution_count": 203,
   "metadata": {},
   "outputs": [],
   "source": [
    "train_datagen = image.ImageDataGenerator( \n",
    "    rotation_range = 10,  \n",
    "    zoom_range = 0.1, \n",
    "    width_shift_range = 0.1,  \n",
    "    height_shift_range = 0.1,\n",
    "    shear_range = 0.1,\n",
    "    horizontal_flip = True,  \n",
    "    vertical_flip = False\n",
    "    )\n",
    "train_datagen.fit(x_train)"
   ]
  },
  {
   "cell_type": "markdown",
   "metadata": {},
   "source": [
    "# Adjust Learning Rate if validation accuracy is not improving\n",
    "May occur if Exploding gradient is reached"
   ]
  },
  {
   "cell_type": "code",
   "execution_count": 221,
   "metadata": {},
   "outputs": [],
   "source": [
    "from keras.callbacks import ReduceLROnPlateau\n",
    "learning_rate_reduction = ReduceLROnPlateau(\n",
    "    monitor='val_accuracy', \n",
    "    patience=3, \n",
    "    verbose=1, \n",
    "    factor=0.6, \n",
    "    min_lr=1e-6)"
   ]
  },
  {
   "cell_type": "markdown",
   "metadata": {},
   "source": [
    "# Configuring ResNet50"
   ]
  },
  {
   "cell_type": "code",
   "execution_count": 222,
   "metadata": {},
   "outputs": [],
   "source": [
    "def identity_block(X, f, filters):\n",
    "    X_shortcut=X\n",
    "\n",
    "    X=tf.Conv2D(filters=filters[0],kernel_size=1,strides=(1,1), padding='valid')(X)\n",
    "    X=tf.BatchNormalization(axis=3)(X, training=True)\n",
    "    X=tf.Activation('relu')(X)\n",
    "\n",
    "    X=tf.Conv2D(filters=filters[1],kernel_size=f,strides=(1,1), padding='same')(X)\n",
    "    X=tf.BatchNormalization(axis=3)(X, training=True)\n",
    "    X=tf.Activation('relu')(X)\n",
    "\n",
    "    X=tf.Conv2D(filters=filters[2],kernel_size=1,strides=(1,1), padding='valid')(X)\n",
    "    X=tf.BatchNormalization(axis=3)(X, training=True)\n",
    "\n",
    "    X=tf.Add()([X_shortcut,X])\n",
    "    X=tf.Activation('relu')(X)\n",
    "\n",
    "    return X"
   ]
  },
  {
   "cell_type": "code",
   "execution_count": 223,
   "metadata": {},
   "outputs": [],
   "source": [
    "def convolutional_block(X, f, filters, s=2):\n",
    "    X_shortcut=X\n",
    "\n",
    "    X=tf.Conv2D(filters=filters[0],kernel_size=1,strides=(s,s), padding='valid')(X)\n",
    "    X=tf.BatchNormalization(axis=3)(X, training=True)\n",
    "    X=tf.Activation('relu')(X)\n",
    "\n",
    "    X=tf.Conv2D(filters=filters[1],kernel_size=f,strides=(1,1), padding='same')(X)\n",
    "    X=tf.BatchNormalization(axis=3)(X, training=True)\n",
    "    X=tf.Activation('relu')(X)\n",
    "\n",
    "    X=tf.Conv2D(filters=filters[2],kernel_size=1,strides=(1,1), padding='valid')(X)\n",
    "    X=tf.BatchNormalization(axis=3)(X, training=True)\n",
    "\n",
    "    X_shortcut=tf.Conv2D(filters=filters[2],kernel_size=1,strides=(s,s), padding='valid')(X_shortcut)\n",
    "    X_shortcut=tf.BatchNormalization(axis=3)(X_shortcut, training=True)\n",
    "\n",
    "    X=tf.Add()([X_shortcut,X])\n",
    "    X=tf.Activation('relu')(X)\n",
    "\n",
    "    return X"
   ]
  },
  {
   "cell_type": "code",
   "execution_count": 224,
   "metadata": {},
   "outputs": [],
   "source": [
    "def build_resnet(input_shape):\n",
    "\n",
    "    input_img = tf.keras.Input(shape=input_shape)\n",
    "\n",
    "    #layer = data_augmenter()(input_img)\n",
    "\n",
    "    layer =tf.ZeroPadding2D((3, 3))(input_img)\n",
    "\n",
    "    layer=tf.Conv2D(filters=64,kernel_size=7,strides=(2,2))(layer)\n",
    "    layer=tf.BatchNormalization(axis=3)(layer, training=True)\n",
    "    layer=tf.Activation('relu')(layer)\n",
    "    layer=tf.MaxPooling2D((3, 3), strides=(2, 2))(layer)\n",
    "\n",
    "    layer=convolutional_block(layer,3,[64,64,256],1)\n",
    "    layer=identity_block(layer,3,[64,64,256])\n",
    "    layer=identity_block(layer,3,[64,64,256])\n",
    "\n",
    "    layer=convolutional_block(layer,3,[128,128,512],2)\n",
    "    layer=identity_block(layer,3,[128,128,512])\n",
    "    layer=identity_block(layer,3,[128,128,512])\n",
    "    layer=identity_block(layer,3,[128,128,512])\n",
    "\n",
    "    layer=convolutional_block(layer,3, [256, 256, 1024],2)\n",
    "    layer=identity_block(layer,3, [256, 256, 1024])\n",
    "    layer=identity_block(layer,3, [256, 256, 1024])\n",
    "    layer=identity_block(layer,3, [256, 256, 1024])\n",
    "    layer=identity_block(layer,3, [256, 256, 1024])\n",
    "    layer=identity_block(layer,3, [256, 256, 1024])\n",
    "\n",
    "    layer=convolutional_block(layer,3, [512, 512, 2048],2)\n",
    "    layer=identity_block(layer,3, [512, 512, 2048])\n",
    "    layer=identity_block(layer,3, [512, 512, 2048])\n",
    "\n",
    "    layer=tf.AveragePooling2D(pool_size=(2, 2),padding='same')(layer)\n",
    "    layer=tf.Flatten()(layer)\n",
    "\n",
    "    outputs=tf.Dense(units= 20 , activation='softmax')(layer)\n",
    "    model = tf.keras.Model(inputs=input_img, outputs=outputs)\n",
    "    return model"
   ]
  },
  {
   "cell_type": "code",
   "execution_count": 225,
   "metadata": {},
   "outputs": [
    {
     "ename": "AttributeError",
     "evalue": "module 'tensorflow' has no attribute 'ZeroPadding2D'",
     "output_type": "error",
     "traceback": [
      "\u001b[1;31m---------------------------------------------------------------------------\u001b[0m",
      "\u001b[1;31mAttributeError\u001b[0m                            Traceback (most recent call last)",
      "\u001b[1;32mc:\\Users\\ambar\\All\\OnlyCodes\\python\\DL stuff\\DL-drills\\Cifar-100\\Cifar100.ipynb Cell 15\u001b[0m line \u001b[0;36m1\n\u001b[1;32m----> <a href='vscode-notebook-cell:/c%3A/Users/ambar/All/OnlyCodes/python/DL%20stuff/DL-drills/Cifar-100/Cifar100.ipynb#X31sZmlsZQ%3D%3D?line=0'>1</a>\u001b[0m myresnet18 \u001b[39m=\u001b[39m build_resnet(input_shape\u001b[39m=\u001b[39;49m(\u001b[39m32\u001b[39;49m, \u001b[39m32\u001b[39;49m, \u001b[39m3\u001b[39;49m))\n",
      "\u001b[1;32mc:\\Users\\ambar\\All\\OnlyCodes\\python\\DL stuff\\DL-drills\\Cifar-100\\Cifar100.ipynb Cell 15\u001b[0m line \u001b[0;36m7\n\u001b[0;32m      <a href='vscode-notebook-cell:/c%3A/Users/ambar/All/OnlyCodes/python/DL%20stuff/DL-drills/Cifar-100/Cifar100.ipynb#X31sZmlsZQ%3D%3D?line=2'>3</a>\u001b[0m input_img \u001b[39m=\u001b[39m tf\u001b[39m.\u001b[39mkeras\u001b[39m.\u001b[39mInput(shape\u001b[39m=\u001b[39minput_shape)\n\u001b[0;32m      <a href='vscode-notebook-cell:/c%3A/Users/ambar/All/OnlyCodes/python/DL%20stuff/DL-drills/Cifar-100/Cifar100.ipynb#X31sZmlsZQ%3D%3D?line=4'>5</a>\u001b[0m \u001b[39m#layer = data_augmenter()(input_img)\u001b[39;00m\n\u001b[1;32m----> <a href='vscode-notebook-cell:/c%3A/Users/ambar/All/OnlyCodes/python/DL%20stuff/DL-drills/Cifar-100/Cifar100.ipynb#X31sZmlsZQ%3D%3D?line=6'>7</a>\u001b[0m layer \u001b[39m=\u001b[39mtf\u001b[39m.\u001b[39;49mZeroPadding2D((\u001b[39m3\u001b[39m, \u001b[39m3\u001b[39m))(input_img)\n\u001b[0;32m      <a href='vscode-notebook-cell:/c%3A/Users/ambar/All/OnlyCodes/python/DL%20stuff/DL-drills/Cifar-100/Cifar100.ipynb#X31sZmlsZQ%3D%3D?line=8'>9</a>\u001b[0m layer\u001b[39m=\u001b[39mtf\u001b[39m.\u001b[39mConv2D(filters\u001b[39m=\u001b[39m\u001b[39m64\u001b[39m,kernel_size\u001b[39m=\u001b[39m\u001b[39m7\u001b[39m,strides\u001b[39m=\u001b[39m(\u001b[39m2\u001b[39m,\u001b[39m2\u001b[39m))(layer)\n\u001b[0;32m     <a href='vscode-notebook-cell:/c%3A/Users/ambar/All/OnlyCodes/python/DL%20stuff/DL-drills/Cifar-100/Cifar100.ipynb#X31sZmlsZQ%3D%3D?line=9'>10</a>\u001b[0m layer\u001b[39m=\u001b[39mtf\u001b[39m.\u001b[39mBatchNormalization(axis\u001b[39m=\u001b[39m\u001b[39m3\u001b[39m)(layer, training\u001b[39m=\u001b[39m\u001b[39mTrue\u001b[39;00m)\n",
      "\u001b[1;31mAttributeError\u001b[0m: module 'tensorflow' has no attribute 'ZeroPadding2D'"
     ]
    }
   ],
   "source": [
    "myresnet18 = build_resnet(input_shape=(32, 32, 3))"
   ]
  },
  {
   "cell_type": "markdown",
   "metadata": {},
   "source": [
    "# Creating Model"
   ]
  },
  {
   "cell_type": "code",
   "execution_count": 208,
   "metadata": {},
   "outputs": [
    {
     "ename": "NameError",
     "evalue": "name 'myresnet36' is not defined",
     "output_type": "error",
     "traceback": [
      "\u001b[1;31m---------------------------------------------------------------------------\u001b[0m",
      "\u001b[1;31mNameError\u001b[0m                                 Traceback (most recent call last)",
      "\u001b[1;32mc:\\Users\\ambar\\All\\OnlyCodes\\python\\DL stuff\\DL-drills\\Cifar-100\\Cifar100.ipynb Cell 16\u001b[0m line \u001b[0;36m5\n\u001b[0;32m      <a href='vscode-notebook-cell:/c%3A/Users/ambar/All/OnlyCodes/python/DL%20stuff/DL-drills/Cifar-100/Cifar100.ipynb#X16sZmlsZQ%3D%3D?line=0'>1</a>\u001b[0m \u001b[39m# Author Ambar Roy\u001b[39;00m\n\u001b[0;32m      <a href='vscode-notebook-cell:/c%3A/Users/ambar/All/OnlyCodes/python/DL%20stuff/DL-drills/Cifar-100/Cifar100.ipynb#X16sZmlsZQ%3D%3D?line=2'>3</a>\u001b[0m cnn\u001b[39m=\u001b[39mkeras\u001b[39m.\u001b[39mmodels\u001b[39m.\u001b[39mSequential(name\u001b[39m=\u001b[39m\u001b[39m'\u001b[39m\u001b[39mResNet50-for-Cifar100\u001b[39m\u001b[39m'\u001b[39m)\n\u001b[1;32m----> <a href='vscode-notebook-cell:/c%3A/Users/ambar/All/OnlyCodes/python/DL%20stuff/DL-drills/Cifar-100/Cifar100.ipynb#X16sZmlsZQ%3D%3D?line=4'>5</a>\u001b[0m cnn\u001b[39m.\u001b[39madd(myresnet36)\n\u001b[0;32m      <a href='vscode-notebook-cell:/c%3A/Users/ambar/All/OnlyCodes/python/DL%20stuff/DL-drills/Cifar-100/Cifar100.ipynb#X16sZmlsZQ%3D%3D?line=5'>6</a>\u001b[0m cnn\u001b[39m.\u001b[39madd(Dropout(\u001b[39m.25\u001b[39m,name\u001b[39m=\u001b[39m\u001b[39m'\u001b[39m\u001b[39mDrop1\u001b[39m\u001b[39m'\u001b[39m))\n\u001b[0;32m      <a href='vscode-notebook-cell:/c%3A/Users/ambar/All/OnlyCodes/python/DL%20stuff/DL-drills/Cifar-100/Cifar100.ipynb#X16sZmlsZQ%3D%3D?line=6'>7</a>\u001b[0m cnn\u001b[39m.\u001b[39madd(Flatten(name\u001b[39m=\u001b[39m\u001b[39m'\u001b[39m\u001b[39mFlatten\u001b[39m\u001b[39m'\u001b[39m))\n",
      "\u001b[1;31mNameError\u001b[0m: name 'myresnet36' is not defined"
     ]
    }
   ],
   "source": [
    "# Author Ambar Roy\n",
    "\n",
    "cnn=keras.models.Sequential(name='ResNet50-for-Cifar100')\n",
    "\n",
    "cnn.add(myresnet36)\n",
    "cnn.add(Dropout(.25,name='Drop1'))\n",
    "cnn.add(Flatten(name='Flatten'))\n",
    "cnn.add(Dense(1024, activation='relu',name='Dense1'))\n",
    "cnn.add(Dropout(.25,name='Drop2'))\n",
    "cnn.add(Dense(256, activation='relu',name='Dense2'))\n",
    "cnn.add(BatchNormalization(name='BN'))\n",
    "cnn.add(Dense(100, name='OL', activation='softmax'))\n",
    "cnn.compile(optimizer=keras.optimizers.SGD(learning_rate=1e-2,momentum=0.9),loss='categorical_crossentropy',metrics='accuracy')\n",
    "cnn.build(input_shape=(None, 224, 224, 3))\n",
    "cnn.summary()"
   ]
  },
  {
   "cell_type": "markdown",
   "metadata": {},
   "source": [
    "# Training Model"
   ]
  },
  {
   "cell_type": "code",
   "execution_count": null,
   "metadata": {},
   "outputs": [
    {
     "name": "stdout",
     "output_type": "stream",
     "text": [
      "Epoch 1/20\n",
      "157/157 [==============================] - 56s 341ms/step - loss: 2.5057 - accuracy: 0.3887 - val_loss: 3.5455 - val_accuracy: 0.1718 - lr: 0.0100\n",
      "Epoch 2/20\n",
      "157/157 [==============================] - 60s 384ms/step - loss: 1.8558 - accuracy: 0.4519 - val_loss: 2.8608 - val_accuracy: 0.2857 - lr: 0.0100\n",
      "Epoch 3/20\n",
      "157/157 [==============================] - 71s 452ms/step - loss: 1.7067 - accuracy: 0.4765 - val_loss: 2.4536 - val_accuracy: 0.3189 - lr: 0.0100\n",
      "Epoch 4/20\n",
      "157/157 [==============================] - 67s 425ms/step - loss: 1.6024 - accuracy: 0.5015 - val_loss: 2.2653 - val_accuracy: 0.3390 - lr: 0.0100\n",
      "Epoch 5/20\n",
      "157/157 [==============================] - 71s 451ms/step - loss: 1.5388 - accuracy: 0.5189 - val_loss: 2.2459 - val_accuracy: 0.3555 - lr: 0.0100\n",
      "Epoch 6/20\n",
      "157/157 [==============================] - 69s 437ms/step - loss: 1.4712 - accuracy: 0.5361 - val_loss: 2.6993 - val_accuracy: 0.3312 - lr: 0.0100\n",
      "Epoch 7/20\n",
      "157/157 [==============================] - 74s 469ms/step - loss: 1.4094 - accuracy: 0.5561 - val_loss: 2.3654 - val_accuracy: 0.3497 - lr: 0.0100\n",
      "Epoch 8/20\n",
      " 10/157 [>.............................] - ETA: 1:02 - loss: 1.3494 - accuracy: 0.5723"
     ]
    },
    {
     "ename": "KeyboardInterrupt",
     "evalue": "",
     "output_type": "error",
     "traceback": [
      "\u001b[1;31m---------------------------------------------------------------------------\u001b[0m",
      "\u001b[1;31mKeyboardInterrupt\u001b[0m                         Traceback (most recent call last)",
      "\u001b[1;32mc:\\Users\\ambar\\All\\OnlyCodes\\python\\DL stuff\\DL-drills\\Cifar-100\\Cifar100.ipynb Cell 18\u001b[0m line \u001b[0;36m2\n\u001b[0;32m      <a href='vscode-notebook-cell:/c%3A/Users/ambar/All/OnlyCodes/python/DL%20stuff/DL-drills/Cifar-100/Cifar100.ipynb#X21sZmlsZQ%3D%3D?line=0'>1</a>\u001b[0m \u001b[39m# cnn.load_weights('weights/cnn-model5.h5')\u001b[39;00m\n\u001b[1;32m----> <a href='vscode-notebook-cell:/c%3A/Users/ambar/All/OnlyCodes/python/DL%20stuff/DL-drills/Cifar-100/Cifar100.ipynb#X21sZmlsZQ%3D%3D?line=1'>2</a>\u001b[0m history\u001b[39m=\u001b[39mcnn\u001b[39m.\u001b[39;49mfit(x_train, y_train, verbose\u001b[39m=\u001b[39;49m\u001b[39m1\u001b[39;49m, batch_size\u001b[39m=\u001b[39;49m\u001b[39m256\u001b[39;49m, epochs\u001b[39m=\u001b[39;49m\u001b[39m20\u001b[39;49m, validation_split\u001b[39m=\u001b[39;49m\u001b[39m0.2\u001b[39;49m, callbacks \u001b[39m=\u001b[39;49m [learning_rate_reduction], shuffle\u001b[39m=\u001b[39;49m\u001b[39mTrue\u001b[39;49;00m)\n\u001b[0;32m      <a href='vscode-notebook-cell:/c%3A/Users/ambar/All/OnlyCodes/python/DL%20stuff/DL-drills/Cifar-100/Cifar100.ipynb#X21sZmlsZQ%3D%3D?line=2'>3</a>\u001b[0m pd\u001b[39m.\u001b[39mDataFrame(history\u001b[39m.\u001b[39mhistory)[\u001b[39m'\u001b[39m\u001b[39maccuracy\u001b[39m\u001b[39m'\u001b[39m]\u001b[39m.\u001b[39mplot(figsize\u001b[39m=\u001b[39m(\u001b[39m8\u001b[39m,\u001b[39m5\u001b[39m))\n\u001b[0;32m      <a href='vscode-notebook-cell:/c%3A/Users/ambar/All/OnlyCodes/python/DL%20stuff/DL-drills/Cifar-100/Cifar100.ipynb#X21sZmlsZQ%3D%3D?line=3'>4</a>\u001b[0m pd\u001b[39m.\u001b[39mDataFrame(history\u001b[39m.\u001b[39mhistory)[\u001b[39m'\u001b[39m\u001b[39mval_accuracy\u001b[39m\u001b[39m'\u001b[39m]\u001b[39m.\u001b[39mplot(figsize\u001b[39m=\u001b[39m(\u001b[39m8\u001b[39m,\u001b[39m5\u001b[39m))\n",
      "File \u001b[1;32mc:\\Users\\ambar\\AppData\\Local\\Programs\\Python\\Python311\\Lib\\site-packages\\keras\\src\\utils\\traceback_utils.py:65\u001b[0m, in \u001b[0;36mfilter_traceback.<locals>.error_handler\u001b[1;34m(*args, **kwargs)\u001b[0m\n\u001b[0;32m     63\u001b[0m filtered_tb \u001b[39m=\u001b[39m \u001b[39mNone\u001b[39;00m\n\u001b[0;32m     64\u001b[0m \u001b[39mtry\u001b[39;00m:\n\u001b[1;32m---> 65\u001b[0m     \u001b[39mreturn\u001b[39;00m fn(\u001b[39m*\u001b[39;49margs, \u001b[39m*\u001b[39;49m\u001b[39m*\u001b[39;49mkwargs)\n\u001b[0;32m     66\u001b[0m \u001b[39mexcept\u001b[39;00m \u001b[39mException\u001b[39;00m \u001b[39mas\u001b[39;00m e:\n\u001b[0;32m     67\u001b[0m     filtered_tb \u001b[39m=\u001b[39m _process_traceback_frames(e\u001b[39m.\u001b[39m__traceback__)\n",
      "File \u001b[1;32mc:\\Users\\ambar\\AppData\\Local\\Programs\\Python\\Python311\\Lib\\site-packages\\keras\\src\\engine\\training.py:1742\u001b[0m, in \u001b[0;36mModel.fit\u001b[1;34m(self, x, y, batch_size, epochs, verbose, callbacks, validation_split, validation_data, shuffle, class_weight, sample_weight, initial_epoch, steps_per_epoch, validation_steps, validation_batch_size, validation_freq, max_queue_size, workers, use_multiprocessing)\u001b[0m\n\u001b[0;32m   1734\u001b[0m \u001b[39mwith\u001b[39;00m tf\u001b[39m.\u001b[39mprofiler\u001b[39m.\u001b[39mexperimental\u001b[39m.\u001b[39mTrace(\n\u001b[0;32m   1735\u001b[0m     \u001b[39m\"\u001b[39m\u001b[39mtrain\u001b[39m\u001b[39m\"\u001b[39m,\n\u001b[0;32m   1736\u001b[0m     epoch_num\u001b[39m=\u001b[39mepoch,\n\u001b[1;32m   (...)\u001b[0m\n\u001b[0;32m   1739\u001b[0m     _r\u001b[39m=\u001b[39m\u001b[39m1\u001b[39m,\n\u001b[0;32m   1740\u001b[0m ):\n\u001b[0;32m   1741\u001b[0m     callbacks\u001b[39m.\u001b[39mon_train_batch_begin(step)\n\u001b[1;32m-> 1742\u001b[0m     tmp_logs \u001b[39m=\u001b[39m \u001b[39mself\u001b[39;49m\u001b[39m.\u001b[39;49mtrain_function(iterator)\n\u001b[0;32m   1743\u001b[0m     \u001b[39mif\u001b[39;00m data_handler\u001b[39m.\u001b[39mshould_sync:\n\u001b[0;32m   1744\u001b[0m         context\u001b[39m.\u001b[39masync_wait()\n",
      "File \u001b[1;32mc:\\Users\\ambar\\AppData\\Local\\Programs\\Python\\Python311\\Lib\\site-packages\\tensorflow\\python\\util\\traceback_utils.py:150\u001b[0m, in \u001b[0;36mfilter_traceback.<locals>.error_handler\u001b[1;34m(*args, **kwargs)\u001b[0m\n\u001b[0;32m    148\u001b[0m filtered_tb \u001b[39m=\u001b[39m \u001b[39mNone\u001b[39;00m\n\u001b[0;32m    149\u001b[0m \u001b[39mtry\u001b[39;00m:\n\u001b[1;32m--> 150\u001b[0m   \u001b[39mreturn\u001b[39;00m fn(\u001b[39m*\u001b[39;49margs, \u001b[39m*\u001b[39;49m\u001b[39m*\u001b[39;49mkwargs)\n\u001b[0;32m    151\u001b[0m \u001b[39mexcept\u001b[39;00m \u001b[39mException\u001b[39;00m \u001b[39mas\u001b[39;00m e:\n\u001b[0;32m    152\u001b[0m   filtered_tb \u001b[39m=\u001b[39m _process_traceback_frames(e\u001b[39m.\u001b[39m__traceback__)\n",
      "File \u001b[1;32mc:\\Users\\ambar\\AppData\\Local\\Programs\\Python\\Python311\\Lib\\site-packages\\tensorflow\\python\\eager\\polymorphic_function\\polymorphic_function.py:825\u001b[0m, in \u001b[0;36mFunction.__call__\u001b[1;34m(self, *args, **kwds)\u001b[0m\n\u001b[0;32m    822\u001b[0m compiler \u001b[39m=\u001b[39m \u001b[39m\"\u001b[39m\u001b[39mxla\u001b[39m\u001b[39m\"\u001b[39m \u001b[39mif\u001b[39;00m \u001b[39mself\u001b[39m\u001b[39m.\u001b[39m_jit_compile \u001b[39melse\u001b[39;00m \u001b[39m\"\u001b[39m\u001b[39mnonXla\u001b[39m\u001b[39m\"\u001b[39m\n\u001b[0;32m    824\u001b[0m \u001b[39mwith\u001b[39;00m OptionalXlaContext(\u001b[39mself\u001b[39m\u001b[39m.\u001b[39m_jit_compile):\n\u001b[1;32m--> 825\u001b[0m   result \u001b[39m=\u001b[39m \u001b[39mself\u001b[39;49m\u001b[39m.\u001b[39;49m_call(\u001b[39m*\u001b[39;49margs, \u001b[39m*\u001b[39;49m\u001b[39m*\u001b[39;49mkwds)\n\u001b[0;32m    827\u001b[0m new_tracing_count \u001b[39m=\u001b[39m \u001b[39mself\u001b[39m\u001b[39m.\u001b[39mexperimental_get_tracing_count()\n\u001b[0;32m    828\u001b[0m without_tracing \u001b[39m=\u001b[39m (tracing_count \u001b[39m==\u001b[39m new_tracing_count)\n",
      "File \u001b[1;32mc:\\Users\\ambar\\AppData\\Local\\Programs\\Python\\Python311\\Lib\\site-packages\\tensorflow\\python\\eager\\polymorphic_function\\polymorphic_function.py:857\u001b[0m, in \u001b[0;36mFunction._call\u001b[1;34m(self, *args, **kwds)\u001b[0m\n\u001b[0;32m    854\u001b[0m   \u001b[39mself\u001b[39m\u001b[39m.\u001b[39m_lock\u001b[39m.\u001b[39mrelease()\n\u001b[0;32m    855\u001b[0m   \u001b[39m# In this case we have created variables on the first call, so we run the\u001b[39;00m\n\u001b[0;32m    856\u001b[0m   \u001b[39m# defunned version which is guaranteed to never create variables.\u001b[39;00m\n\u001b[1;32m--> 857\u001b[0m   \u001b[39mreturn\u001b[39;00m \u001b[39mself\u001b[39;49m\u001b[39m.\u001b[39;49m_no_variable_creation_fn(\u001b[39m*\u001b[39;49margs, \u001b[39m*\u001b[39;49m\u001b[39m*\u001b[39;49mkwds)  \u001b[39m# pylint: disable=not-callable\u001b[39;00m\n\u001b[0;32m    858\u001b[0m \u001b[39melif\u001b[39;00m \u001b[39mself\u001b[39m\u001b[39m.\u001b[39m_variable_creation_fn \u001b[39mis\u001b[39;00m \u001b[39mnot\u001b[39;00m \u001b[39mNone\u001b[39;00m:\n\u001b[0;32m    859\u001b[0m   \u001b[39m# Release the lock early so that multiple threads can perform the call\u001b[39;00m\n\u001b[0;32m    860\u001b[0m   \u001b[39m# in parallel.\u001b[39;00m\n\u001b[0;32m    861\u001b[0m   \u001b[39mself\u001b[39m\u001b[39m.\u001b[39m_lock\u001b[39m.\u001b[39mrelease()\n",
      "File \u001b[1;32mc:\\Users\\ambar\\AppData\\Local\\Programs\\Python\\Python311\\Lib\\site-packages\\tensorflow\\python\\eager\\polymorphic_function\\tracing_compiler.py:148\u001b[0m, in \u001b[0;36mTracingCompiler.__call__\u001b[1;34m(self, *args, **kwargs)\u001b[0m\n\u001b[0;32m    145\u001b[0m \u001b[39mwith\u001b[39;00m \u001b[39mself\u001b[39m\u001b[39m.\u001b[39m_lock:\n\u001b[0;32m    146\u001b[0m   (concrete_function,\n\u001b[0;32m    147\u001b[0m    filtered_flat_args) \u001b[39m=\u001b[39m \u001b[39mself\u001b[39m\u001b[39m.\u001b[39m_maybe_define_function(args, kwargs)\n\u001b[1;32m--> 148\u001b[0m \u001b[39mreturn\u001b[39;00m concrete_function\u001b[39m.\u001b[39;49m_call_flat(\n\u001b[0;32m    149\u001b[0m     filtered_flat_args, captured_inputs\u001b[39m=\u001b[39;49mconcrete_function\u001b[39m.\u001b[39;49mcaptured_inputs)\n",
      "File \u001b[1;32mc:\\Users\\ambar\\AppData\\Local\\Programs\\Python\\Python311\\Lib\\site-packages\\tensorflow\\python\\eager\\polymorphic_function\\monomorphic_function.py:1349\u001b[0m, in \u001b[0;36mConcreteFunction._call_flat\u001b[1;34m(self, args, captured_inputs)\u001b[0m\n\u001b[0;32m   1345\u001b[0m possible_gradient_type \u001b[39m=\u001b[39m gradients_util\u001b[39m.\u001b[39mPossibleTapeGradientTypes(args)\n\u001b[0;32m   1346\u001b[0m \u001b[39mif\u001b[39;00m (possible_gradient_type \u001b[39m==\u001b[39m gradients_util\u001b[39m.\u001b[39mPOSSIBLE_GRADIENT_TYPES_NONE\n\u001b[0;32m   1347\u001b[0m     \u001b[39mand\u001b[39;00m executing_eagerly):\n\u001b[0;32m   1348\u001b[0m   \u001b[39m# No tape is watching; skip to running the function.\u001b[39;00m\n\u001b[1;32m-> 1349\u001b[0m   \u001b[39mreturn\u001b[39;00m \u001b[39mself\u001b[39m\u001b[39m.\u001b[39m_build_call_outputs(\u001b[39mself\u001b[39;49m\u001b[39m.\u001b[39;49m_inference_function(\u001b[39m*\u001b[39;49margs))\n\u001b[0;32m   1350\u001b[0m forward_backward \u001b[39m=\u001b[39m \u001b[39mself\u001b[39m\u001b[39m.\u001b[39m_select_forward_and_backward_functions(\n\u001b[0;32m   1351\u001b[0m     args,\n\u001b[0;32m   1352\u001b[0m     possible_gradient_type,\n\u001b[0;32m   1353\u001b[0m     executing_eagerly)\n\u001b[0;32m   1354\u001b[0m forward_function, args_with_tangents \u001b[39m=\u001b[39m forward_backward\u001b[39m.\u001b[39mforward()\n",
      "File \u001b[1;32mc:\\Users\\ambar\\AppData\\Local\\Programs\\Python\\Python311\\Lib\\site-packages\\tensorflow\\python\\eager\\polymorphic_function\\atomic_function.py:196\u001b[0m, in \u001b[0;36mAtomicFunction.__call__\u001b[1;34m(self, *args)\u001b[0m\n\u001b[0;32m    194\u001b[0m \u001b[39mwith\u001b[39;00m record\u001b[39m.\u001b[39mstop_recording():\n\u001b[0;32m    195\u001b[0m   \u001b[39mif\u001b[39;00m \u001b[39mself\u001b[39m\u001b[39m.\u001b[39m_bound_context\u001b[39m.\u001b[39mexecuting_eagerly():\n\u001b[1;32m--> 196\u001b[0m     outputs \u001b[39m=\u001b[39m \u001b[39mself\u001b[39;49m\u001b[39m.\u001b[39;49m_bound_context\u001b[39m.\u001b[39;49mcall_function(\n\u001b[0;32m    197\u001b[0m         \u001b[39mself\u001b[39;49m\u001b[39m.\u001b[39;49mname,\n\u001b[0;32m    198\u001b[0m         \u001b[39mlist\u001b[39;49m(args),\n\u001b[0;32m    199\u001b[0m         \u001b[39mlen\u001b[39;49m(\u001b[39mself\u001b[39;49m\u001b[39m.\u001b[39;49mfunction_type\u001b[39m.\u001b[39;49mflat_outputs),\n\u001b[0;32m    200\u001b[0m     )\n\u001b[0;32m    201\u001b[0m   \u001b[39melse\u001b[39;00m:\n\u001b[0;32m    202\u001b[0m     outputs \u001b[39m=\u001b[39m make_call_op_in_graph(\u001b[39mself\u001b[39m, \u001b[39mlist\u001b[39m(args))\n",
      "File \u001b[1;32mc:\\Users\\ambar\\AppData\\Local\\Programs\\Python\\Python311\\Lib\\site-packages\\tensorflow\\python\\eager\\context.py:1457\u001b[0m, in \u001b[0;36mContext.call_function\u001b[1;34m(self, name, tensor_inputs, num_outputs)\u001b[0m\n\u001b[0;32m   1455\u001b[0m cancellation_context \u001b[39m=\u001b[39m cancellation\u001b[39m.\u001b[39mcontext()\n\u001b[0;32m   1456\u001b[0m \u001b[39mif\u001b[39;00m cancellation_context \u001b[39mis\u001b[39;00m \u001b[39mNone\u001b[39;00m:\n\u001b[1;32m-> 1457\u001b[0m   outputs \u001b[39m=\u001b[39m execute\u001b[39m.\u001b[39;49mexecute(\n\u001b[0;32m   1458\u001b[0m       name\u001b[39m.\u001b[39;49mdecode(\u001b[39m\"\u001b[39;49m\u001b[39mutf-8\u001b[39;49m\u001b[39m\"\u001b[39;49m),\n\u001b[0;32m   1459\u001b[0m       num_outputs\u001b[39m=\u001b[39;49mnum_outputs,\n\u001b[0;32m   1460\u001b[0m       inputs\u001b[39m=\u001b[39;49mtensor_inputs,\n\u001b[0;32m   1461\u001b[0m       attrs\u001b[39m=\u001b[39;49mattrs,\n\u001b[0;32m   1462\u001b[0m       ctx\u001b[39m=\u001b[39;49m\u001b[39mself\u001b[39;49m,\n\u001b[0;32m   1463\u001b[0m   )\n\u001b[0;32m   1464\u001b[0m \u001b[39melse\u001b[39;00m:\n\u001b[0;32m   1465\u001b[0m   outputs \u001b[39m=\u001b[39m execute\u001b[39m.\u001b[39mexecute_with_cancellation(\n\u001b[0;32m   1466\u001b[0m       name\u001b[39m.\u001b[39mdecode(\u001b[39m\"\u001b[39m\u001b[39mutf-8\u001b[39m\u001b[39m\"\u001b[39m),\n\u001b[0;32m   1467\u001b[0m       num_outputs\u001b[39m=\u001b[39mnum_outputs,\n\u001b[1;32m   (...)\u001b[0m\n\u001b[0;32m   1471\u001b[0m       cancellation_manager\u001b[39m=\u001b[39mcancellation_context,\n\u001b[0;32m   1472\u001b[0m   )\n",
      "File \u001b[1;32mc:\\Users\\ambar\\AppData\\Local\\Programs\\Python\\Python311\\Lib\\site-packages\\tensorflow\\python\\eager\\execute.py:53\u001b[0m, in \u001b[0;36mquick_execute\u001b[1;34m(op_name, num_outputs, inputs, attrs, ctx, name)\u001b[0m\n\u001b[0;32m     51\u001b[0m \u001b[39mtry\u001b[39;00m:\n\u001b[0;32m     52\u001b[0m   ctx\u001b[39m.\u001b[39mensure_initialized()\n\u001b[1;32m---> 53\u001b[0m   tensors \u001b[39m=\u001b[39m pywrap_tfe\u001b[39m.\u001b[39;49mTFE_Py_Execute(ctx\u001b[39m.\u001b[39;49m_handle, device_name, op_name,\n\u001b[0;32m     54\u001b[0m                                       inputs, attrs, num_outputs)\n\u001b[0;32m     55\u001b[0m \u001b[39mexcept\u001b[39;00m core\u001b[39m.\u001b[39m_NotOkStatusException \u001b[39mas\u001b[39;00m e:\n\u001b[0;32m     56\u001b[0m   \u001b[39mif\u001b[39;00m name \u001b[39mis\u001b[39;00m \u001b[39mnot\u001b[39;00m \u001b[39mNone\u001b[39;00m:\n",
      "\u001b[1;31mKeyboardInterrupt\u001b[0m: "
     ]
    }
   ],
   "source": [
    "# cnn.load_weights('weights/cnn-model5.h5')\n",
    "history=cnn.fit(x_train, y_train, verbose=1, batch_size=256, epochs=20, validation_split=0.2, callbacks = [learning_rate_reduction], shuffle=True)\n",
    "pd.DataFrame(history.history)['accuracy'].plot(figsize=(8,5))\n",
    "pd.DataFrame(history.history)['val_accuracy'].plot(figsize=(8,5))\n",
    "plt.legend()\n",
    "plt.xlabel('Epoch')\n",
    "plt.ylabel('Accuracy')\n",
    "plt.title('Training and Validation Accuracy over Epochs')\n",
    "plt.show()"
   ]
  },
  {
   "cell_type": "markdown",
   "metadata": {},
   "source": [
    "# Testing Model"
   ]
  },
  {
   "cell_type": "code",
   "execution_count": null,
   "metadata": {},
   "outputs": [],
   "source": [
    "# cnn.evaluate(x_test,y_test)"
   ]
  }
 ],
 "metadata": {
  "kernelspec": {
   "display_name": "Python 3",
   "language": "python",
   "name": "python3"
  },
  "language_info": {
   "codemirror_mode": {
    "name": "ipython",
    "version": 3
   },
   "file_extension": ".py",
   "mimetype": "text/x-python",
   "name": "python",
   "nbconvert_exporter": "python",
   "pygments_lexer": "ipython3",
   "version": "3.11.4"
  }
 },
 "nbformat": 4,
 "nbformat_minor": 2
}
