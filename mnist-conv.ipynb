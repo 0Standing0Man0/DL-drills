{
 "cells": [
  {
   "cell_type": "code",
   "execution_count": 8,
   "metadata": {},
   "outputs": [],
   "source": [
    "import keras\n",
    "from keras.layers import Dense,Conv2D,MaxPool2D,Flatten\n",
    "from keras.datasets import mnist\n",
    "import numpy as np\n",
    "import pandas as pd\n",
    "import matplotlib.pyplot as plt"
   ]
  },
  {
   "cell_type": "code",
   "execution_count": 9,
   "metadata": {},
   "outputs": [],
   "source": [
    "(x_train, y_train), (x_test, y_test)=mnist.load_data()\n",
    "x_train=x_train.reshape(60000,28,28,1) # not to 2d so that we can do conv\n",
    "x_train=x_train.astype('float')\n",
    "x_train/=255\n",
    "x_test=x_test.reshape(10000,28,28,1)\n",
    "x_test=x_test.astype('float')\n",
    "x_test/=255\n",
    "y_train=keras.utils.to_categorical(y_train,10)\n",
    "y_test=keras.utils.to_categorical(y_test,10)"
   ]
  },
  {
   "cell_type": "code",
   "execution_count": 10,
   "metadata": {},
   "outputs": [
    {
     "name": "stdout",
     "output_type": "stream",
     "text": [
      "Model: \"sequential_1\"\n",
      "_________________________________________________________________\n",
      " Layer (type)                Output Shape              Param #   \n",
      "=================================================================\n",
      " Conv1 (Conv2D)              (None, 28, 28, 32)        832       \n",
      "                                                                 \n",
      " MP1 (MaxPooling2D)          (None, 14, 14, 32)        0         \n",
      "                                                                 \n",
      " Conv2 (Conv2D)              (None, 14, 14, 64)        51264     \n",
      "                                                                 \n",
      " MP2 (MaxPooling2D)          (None, 7, 7, 64)          0         \n",
      "                                                                 \n",
      " Flt (Flatten)               (None, 3136)              0         \n",
      "                                                                 \n",
      " HL1 (Dense)                 (None, 1024)              3212288   \n",
      "                                                                 \n",
      " OL (Dense)                  (None, 10)                10250     \n",
      "                                                                 \n",
      "=================================================================\n",
      "Total params: 3274634 (12.49 MB)\n",
      "Trainable params: 3274634 (12.49 MB)\n",
      "Non-trainable params: 0 (0.00 Byte)\n",
      "_________________________________________________________________\n"
     ]
    }
   ],
   "source": [
    "cnn=keras.models.Sequential()\n",
    "cnn.add(Conv2D(32,kernel_size=(5,5),input_shape=(28,28,1),name='Conv1',padding='same',activation='relu'))  # 32 is number of filters\n",
    "cnn.add(MaxPool2D(name='MP1'))\n",
    "cnn.add(Conv2D(64,kernel_size=(5,5),name='Conv2',padding='same',activation='relu'))\n",
    "cnn.add(MaxPool2D(name='MP2'))\n",
    "cnn.add(Flatten(name='Flt',))\n",
    "cnn.add(Dense(1024,name='HL1',activation='relu'))\n",
    "cnn.add(Dense(10,name='OL',activation='softmax'))\n",
    "cnn.compile(optimizer='adam',loss='categorical_crossentropy',metrics='accuracy')\n",
    "cnn.summary()"
   ]
  },
  {
   "cell_type": "code",
   "execution_count": 11,
   "metadata": {},
   "outputs": [
    {
     "name": "stdout",
     "output_type": "stream",
     "text": [
      "Epoch 1/10\n",
      "750/750 [==============================] - 56s 74ms/step - loss: 0.1274 - accuracy: 0.9599 - val_loss: 0.0438 - val_accuracy: 0.9868\n",
      "Epoch 2/10\n",
      "750/750 [==============================] - 57s 76ms/step - loss: 0.0395 - accuracy: 0.9874 - val_loss: 0.0498 - val_accuracy: 0.9858\n",
      "Epoch 3/10\n",
      "750/750 [==============================] - 66s 87ms/step - loss: 0.0252 - accuracy: 0.9923 - val_loss: 0.0407 - val_accuracy: 0.9890\n",
      "Epoch 4/10\n",
      "750/750 [==============================] - 68s 91ms/step - loss: 0.0184 - accuracy: 0.9942 - val_loss: 0.0428 - val_accuracy: 0.9887\n",
      "Epoch 5/10\n",
      "750/750 [==============================] - 59s 79ms/step - loss: 0.0130 - accuracy: 0.9956 - val_loss: 0.0462 - val_accuracy: 0.9877\n",
      "Epoch 6/10\n",
      "750/750 [==============================] - 66s 87ms/step - loss: 0.0123 - accuracy: 0.9962 - val_loss: 0.0359 - val_accuracy: 0.9913\n",
      "Epoch 7/10\n",
      "750/750 [==============================] - 58s 78ms/step - loss: 0.0101 - accuracy: 0.9966 - val_loss: 0.0382 - val_accuracy: 0.9901\n",
      "Epoch 8/10\n",
      "750/750 [==============================] - 58s 77ms/step - loss: 0.0078 - accuracy: 0.9975 - val_loss: 0.0467 - val_accuracy: 0.9868\n",
      "Epoch 9/10\n",
      "750/750 [==============================] - 61s 81ms/step - loss: 0.0079 - accuracy: 0.9974 - val_loss: 0.0452 - val_accuracy: 0.9886\n",
      "Epoch 10/10\n",
      "750/750 [==============================] - 54s 72ms/step - loss: 0.0073 - accuracy: 0.9976 - val_loss: 0.0446 - val_accuracy: 0.9898\n"
     ]
    },
    {
     "data": {
      "text/plain": [
       "<Axes: >"
      ]
     },
     "execution_count": 11,
     "metadata": {},
     "output_type": "execute_result"
    },
    {
     "data": {
      "image/png": "[encoded data removed]",
      "text/plain": [
       "<Figure size 800x500 with 1 Axes>"
      ]
     },
     "metadata": {},
     "output_type": "display_data"
    }
   ],
   "source": [
    "# cnn.load_weights('weights/cnn-model5.h5')\n",
    "history=cnn.fit(x_train,y_train,verbose=1,batch_size=64,epochs=10,validation_split=0.2)\n",
    "pd.DataFrame(history.history)['accuracy'].plot(figsize=(8,5))\n",
    "pd.DataFrame(history.history)['val_accuracy'].plot(figsize=(8,5))"
   ]
  },
  {
   "cell_type": "code",
   "execution_count": 12,
   "metadata": {},
   "outputs": [
    {
     "name": "stdout",
     "output_type": "stream",
     "text": [
      "313/313 [==============================] - 4s 12ms/step - loss: 0.0388 - accuracy: 0.9901\n"
     ]
    },
    {
     "data": {
      "text/plain": [
       "[0.03877054527401924, 0.9901000261306763]"
      ]
     },
     "execution_count": 12,
     "metadata": {},
     "output_type": "execute_result"
    }
   ],
   "source": [
    "cnn.evaluate(x_test,y_test)"
   ]
  },
  {
   "cell_type": "code",
   "execution_count": 13,
   "metadata": {},
   "outputs": [
    {
     "name": "stdout",
     "output_type": "stream",
     "text": [
      "INFO:tensorflow:Assets written to: mnist-conv\\assets\n"
     ]
    },
    {
     "name": "stderr",
     "output_type": "stream",
     "text": [
      "INFO:tensorflow:Assets written to: mnist-conv\\assets\n"
     ]
    }
   ],
   "source": [
    "cnn.save(\"mnist-conv\")"
   ]
  }
 ],
 "metadata": {
  "kernelspec": {
   "display_name": "Python 3",
   "language": "python",
   "name": "python3"
  },
  "language_info": {
   "codemirror_mode": {
    "name": "ipython",
    "version": 3
   },
   "file_extension": ".py",
   "mimetype": "text/x-python",
   "name": "python",
   "nbconvert_exporter": "python",
   "pygments_lexer": "ipython3",
   "version": "3.11.4"
  },
  "orig_nbformat": 4
 },
 "nbformat": 4,
 "nbformat_minor": 2
}
