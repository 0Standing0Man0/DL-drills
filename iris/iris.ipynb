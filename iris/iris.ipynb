{
 "cells": [
  {
   "cell_type": "code",
   "execution_count": 7,
   "metadata": {},
   "outputs": [],
   "source": [
    "import pandas as pd\n",
    "import os\n",
    "import tensorflow as tf\n",
    "import numpy as np\n",
    "from sklearn.model_selection import train_test_split\n",
    "from sklearn.preprocessing import StandardScaler"
   ]
  },
  {
   "cell_type": "code",
   "execution_count": 8,
   "metadata": {},
   "outputs": [
    {
     "name": "stdout",
     "output_type": "stream",
     "text": [
      "[[-0.90068117  1.03205722 -1.3412724  -1.31297673]\n",
      " [-1.14301691 -0.1249576  -1.3412724  -1.31297673]\n",
      " [-1.38535265  0.33784833 -1.39813811 -1.31297673]\n",
      " [-1.50652052  0.10644536 -1.2844067  -1.31297673]\n",
      " [-1.02184904  1.26346019 -1.3412724  -1.31297673]]\n",
      "(135, 4) (15, 4) (135, 3) (15, 3)\n"
     ]
    }
   ],
   "source": [
    "\n",
    "from sklearn import preprocessing\n",
    "iris_data= pd.read_csv(\"C:/Users/ambar/All/OnlyCodes/datasets/Iris.csv\")\n",
    "# iris_data.head()\n",
    "label_encoder=preprocessing.LabelEncoder()\n",
    "iris_data['Species']=label_encoder.fit_transform(iris_data['Species'])\n",
    "# print(iris_data.describe())\n",
    "np_iris=iris_data.to_numpy()\n",
    "x_data=np_iris[:,1:5]\n",
    "y_data=np_iris[:,5]\n",
    "# print(np_iris[:5])\n",
    "# print(x_data[:5])\n",
    "# print(y_data[:5])\n",
    "scaler=StandardScaler().fit(x_data)\n",
    "x_data=scaler.transform(x_data)\n",
    "print(x_data[:5])\n",
    "y_data=tf.keras.utils.to_categorical(y_data,3)\n",
    "x_train,x_test,y_train,y_test=train_test_split(x_data,y_data,test_size=0.10)\n",
    "print(x_train.shape,x_test.shape,y_train.shape,y_test.shape)"
   ]
  },
  {
   "cell_type": "code",
   "execution_count": 9,
   "metadata": {},
   "outputs": [
    {
     "name": "stdout",
     "output_type": "stream",
     "text": [
      "Model: \"sequential_1\"\n",
      "_________________________________________________________________\n",
      " Layer (type)                Output Shape              Param #   \n",
      "=================================================================\n",
      " HL1 (Dense)                 (None, 128)               640       \n",
      "                                                                 \n",
      " HL2 (Dense)                 (None, 128)               16512     \n",
      "                                                                 \n",
      " OL (Dense)                  (None, 3)                 387       \n",
      "                                                                 \n",
      "=================================================================\n",
      "Total params: 17539 (68.51 KB)\n",
      "Trainable params: 17539 (68.51 KB)\n",
      "Non-trainable params: 0 (0.00 Byte)\n",
      "_________________________________________________________________\n"
     ]
    }
   ],
   "source": [
    "from tensorflow import keras\n",
    "no_class=3\n",
    "model=tf.keras.models.Sequential()\n",
    "model.add(keras.layers.Dense(128,input_shape=(4,),name='HL1',activation='relu')) # 128 nodes input shape 4 row as transpose\n",
    "model.add(keras.layers.Dense(128,name='HL2',activation='relu'))\n",
    "model.add(keras.layers.Dense(no_class,name='OL',activation='softmax'))\n",
    "model.compile(loss='categorical_crossentropy', metrics=['accuracy'])\n",
    "model.summary()"
   ]
  },
  {
   "cell_type": "code",
   "execution_count": 10,
   "metadata": {},
   "outputs": [
    {
     "name": "stdout",
     "output_type": "stream",
     "text": [
      "Epoch 1/10\n",
      "7/7 [==============================] - 0s 21ms/step - loss: 0.8938 - accuracy: 0.6852 - val_loss: 0.6208 - val_accuracy: 0.8148\n",
      "Epoch 2/10\n",
      "7/7 [==============================] - 0s 5ms/step - loss: 0.5909 - accuracy: 0.7870 - val_loss: 0.4621 - val_accuracy: 0.9259\n",
      "Epoch 3/10\n",
      "7/7 [==============================] - 0s 5ms/step - loss: 0.4806 - accuracy: 0.8056 - val_loss: 0.3862 - val_accuracy: 0.9259\n",
      "Epoch 4/10\n",
      "7/7 [==============================] - 0s 5ms/step - loss: 0.4163 - accuracy: 0.8241 - val_loss: 0.3286 - val_accuracy: 0.9259\n",
      "Epoch 5/10\n",
      "7/7 [==============================] - 0s 5ms/step - loss: 0.3793 - accuracy: 0.8241 - val_loss: 0.2925 - val_accuracy: 0.9630\n",
      "Epoch 6/10\n",
      "7/7 [==============================] - 0s 5ms/step - loss: 0.3441 - accuracy: 0.8333 - val_loss: 0.2627 - val_accuracy: 0.9630\n",
      "Epoch 7/10\n",
      "7/7 [==============================] - 0s 7ms/step - loss: 0.3152 - accuracy: 0.8426 - val_loss: 0.2321 - val_accuracy: 1.0000\n",
      "Epoch 8/10\n",
      "7/7 [==============================] - 0s 7ms/step - loss: 0.2941 - accuracy: 0.8796 - val_loss: 0.2003 - val_accuracy: 1.0000\n",
      "Epoch 9/10\n",
      "7/7 [==============================] - 0s 7ms/step - loss: 0.2731 - accuracy: 0.8889 - val_loss: 0.1870 - val_accuracy: 1.0000\n",
      "Epoch 10/10\n",
      "7/7 [==============================] - 0s 7ms/step - loss: 0.2506 - accuracy: 0.9259 - val_loss: 0.1488 - val_accuracy: 1.0000\n"
     ]
    },
    {
     "data": {
      "image/png": "[encoded data removed]",
      "text/plain": [
       "<Figure size 800x500 with 1 Axes>"
      ]
     },
     "metadata": {},
     "output_type": "display_data"
    },
    {
     "name": "stdout",
     "output_type": "stream",
     "text": [
      "1/1 [==============================] - 0s 24ms/step - loss: 0.1461 - accuracy: 0.9333\n"
     ]
    },
    {
     "data": {
      "text/plain": [
       "[0.14606024324893951, 0.9333333373069763]"
      ]
     },
     "execution_count": 10,
     "metadata": {},
     "output_type": "execute_result"
    }
   ],
   "source": [
    "import matplotlib.pyplot as plt\n",
    "\n",
    "VERBOSE=1\n",
    "BATCH_SIZE=16\n",
    "EPOCHS=10\n",
    "VALIDATION_SPLIT=0.2\n",
    "history= model.fit(x_train,\n",
    "          y_train,\n",
    "          batch_size=BATCH_SIZE,\n",
    "          epochs=EPOCHS,\n",
    "          verbose=VERBOSE,\n",
    "          validation_split=VALIDATION_SPLIT)\n",
    "pd.DataFrame(history.history)['accuracy'].plot(figsize=(8,5))\n",
    "plt.title(\"Accuracy with each EPOCH\")\n",
    "plt.show()\n",
    "model.evaluate(x_test,y_test)\n"
   ]
  },
  {
   "cell_type": "code",
   "execution_count": 11,
   "metadata": {},
   "outputs": [
    {
     "name": "stdout",
     "output_type": "stream",
     "text": [
      "INFO:tensorflow:Assets written to: iris_save\\assets\n"
     ]
    },
    {
     "name": "stderr",
     "output_type": "stream",
     "text": [
      "INFO:tensorflow:Assets written to: iris_save\\assets\n"
     ]
    },
    {
     "name": "stdout",
     "output_type": "stream",
     "text": [
      "Model: \"sequential_1\"\n",
      "_________________________________________________________________\n",
      " Layer (type)                Output Shape              Param #   \n",
      "=================================================================\n",
      " HL1 (Dense)                 (None, 128)               640       \n",
      "                                                                 \n",
      " HL2 (Dense)                 (None, 128)               16512     \n",
      "                                                                 \n",
      " OL (Dense)                  (None, 3)                 387       \n",
      "                                                                 \n",
      "=================================================================\n",
      "Total params: 17539 (68.51 KB)\n",
      "Trainable params: 17539 (68.51 KB)\n",
      "Non-trainable params: 0 (0.00 Byte)\n",
      "_________________________________________________________________\n"
     ]
    }
   ],
   "source": [
    "model.save(\"iris_save\")\n",
    "loaded_model=keras.models.load_model(\"iris_save\")\n",
    "loaded_model.summary()"
   ]
  },
  {
   "cell_type": "code",
   "execution_count": 12,
   "metadata": {},
   "outputs": [
    {
     "name": "stdout",
     "output_type": "stream",
     "text": [
      "1/1 [==============================] - 0s 40ms/step\n",
      "List of probablities [[0.44570053 0.40276012 0.15153939]]\n",
      "['Iris-setosa']\n"
     ]
    }
   ],
   "source": [
    "predic_input=[[6.2,3.0,1.2,1.6]]\n",
    "scaled_input=scaler.transform(predic_input)\n",
    "raw_predic=loaded_model.predict(scaled_input)\n",
    "prediction=np.argmax(raw_predic) # returns index of highest probable\n",
    "print(\"List of probablities\",raw_predic)\n",
    "print(label_encoder.inverse_transform([prediction]))"
   ]
  }
 ],
 "metadata": {
  "kernelspec": {
   "display_name": "Python 3",
   "language": "python",
   "name": "python3"
  },
  "language_info": {
   "codemirror_mode": {
    "name": "ipython",
    "version": 3
   },
   "file_extension": ".py",
   "mimetype": "text/x-python",
   "name": "python",
   "nbconvert_exporter": "python",
   "pygments_lexer": "ipython3",
   "version": "3.11.4"
  },
  "orig_nbformat": 4
 },
 "nbformat": 4,
 "nbformat_minor": 2
}
